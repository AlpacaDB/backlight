{
  "nbformat": 4,
  "nbformat_minor": 0,
  "metadata": {
    "colab": {
      "name": "example.ipynb",
      "version": "0.3.2",
      "provenance": []
    },
    "kernelspec": {
      "display_name": "Python 3",
      "language": "python",
      "name": "python3"
    }
  },
  "cells": [
    {
      "metadata": {
        "id": "YcWgkTpb629f",
        "colab_type": "code",
        "colab": {}
      },
      "cell_type": "code",
      "source": [
        "!pip install git+https://github.com/AlpacaDB/backlight"
      ],
      "execution_count": 0,
      "outputs": []
    },
    {
      "metadata": {
        "id": "i6bib12j6xp7",
        "colab_type": "code",
        "colab": {}
      },
      "cell_type": "code",
      "source": [
        "import os\n",
        "import numpy as np\n",
        "import pandas as pd\n",
        "import backlight"
      ],
      "execution_count": 0,
      "outputs": []
    },
    {
      "metadata": {
        "id": "ZF43p4g96xqB",
        "colab_type": "text"
      },
      "cell_type": "markdown",
      "source": [
        "# Generate example dummy data"
      ]
    },
    {
      "metadata": {
        "id": "ZGqKO9L56xqC",
        "colab_type": "code",
        "colab": {}
      },
      "cell_type": "code",
      "source": [
        "np.random.seed(0)\n",
        "\n",
        "# market data\n",
        "if not os.path.exists(\"example_market.csv\"):\n",
        "    idx = pd.date_range(\"2018-04-01 00:00:00\", \"2018-06-30 23:59:59\", freq=\"10S\")\n",
        "    ask = np.cumsum(np.random.rand(len(idx)) - 0.5) + 100.0\n",
        "    bid = ask - 0.02\n",
        "    pd.DataFrame(\n",
        "        index=idx,\n",
        "        data=np.array([ask, bid]).T,\n",
        "        columns=[\"ask\", \"bid\"]\n",
        "    ).abs().to_csv(\"example_market.csv\")\n",
        "\n",
        "# signal data\n",
        "if not os.path.exists(\"example_signal.csv\"):\n",
        "    sig = np.random.rand(3, len(idx)).T\n",
        "    n = np.sum(sig, axis=1)\n",
        "    pd.DataFrame(\n",
        "        index=idx,\n",
        "        data=sig / n.reshape(-1, 1),\n",
        "        columns=[\"down\", \"neutral\", \"up\"]\n",
        "    ).to_csv(\"example_signal.csv\")"
      ],
      "execution_count": 0,
      "outputs": []
    },
    {
      "metadata": {
        "id": "NRgwvXRn6xqD",
        "colab_type": "text"
      },
      "cell_type": "markdown",
      "source": [
        "# Configuration"
      ]
    },
    {
      "metadata": {
        "id": "n64RoXWY6xqE",
        "colab_type": "code",
        "colab": {}
      },
      "cell_type": "code",
      "source": [
        "model_id = \"\"\n",
        "start_dt = \"2018-06-03 00:00:00+0000\"\n",
        "end_dt = \"2018-06-10 00:00:00+0000\"\n",
        "sig_url = \"file:///{}/example_signal.csv\".format(os.getcwd())\n",
        "mkt_url = \"file:///{}/example_market.csv\".format(os.getcwd())"
      ],
      "execution_count": 0,
      "outputs": []
    },
    {
      "metadata": {
        "id": "IRcj63TV6xqG",
        "colab_type": "text"
      },
      "cell_type": "markdown",
      "source": [
        "# loading the signal"
      ]
    },
    {
      "metadata": {
        "scrolled": false,
        "id": "w2C7NALO6xqG",
        "colab_type": "code",
        "colab": {}
      },
      "cell_type": "code",
      "source": [
        "from backlight import signal\n",
        "\n",
        "SYMBOL = \"USDJPY\"\n",
        "sig = signal.load_signal(SYMBOL, sig_url, start_dt, end_dt)"
      ],
      "execution_count": 0,
      "outputs": []
    },
    {
      "metadata": {
        "id": "JXAPItmA6xqI",
        "colab_type": "code",
        "outputId": "080dbc12-a108-4ef4-a833-9ceea2e88da1",
        "colab": {
          "base_uri": "https://localhost:8080/",
          "height": 204
        }
      },
      "cell_type": "code",
      "source": [
        "sig.tail()"
      ],
      "execution_count": 0,
      "outputs": [
        {
          "output_type": "execute_result",
          "data": {
            "text/html": [
              "<div>\n",
              "<style scoped>\n",
              "    .dataframe tbody tr th:only-of-type {\n",
              "        vertical-align: middle;\n",
              "    }\n",
              "\n",
              "    .dataframe tbody tr th {\n",
              "        vertical-align: top;\n",
              "    }\n",
              "\n",
              "    .dataframe thead th {\n",
              "        text-align: right;\n",
              "    }\n",
              "</style>\n",
              "<table border=\"1\" class=\"dataframe\">\n",
              "  <thead>\n",
              "    <tr style=\"text-align: right;\">\n",
              "      <th></th>\n",
              "      <th>down</th>\n",
              "      <th>neutral</th>\n",
              "      <th>up</th>\n",
              "      <th>pred</th>\n",
              "    </tr>\n",
              "  </thead>\n",
              "  <tbody>\n",
              "    <tr>\n",
              "      <th>2018-06-09 23:59:20</th>\n",
              "      <td>0.148715</td>\n",
              "      <td>0.551230</td>\n",
              "      <td>0.300055</td>\n",
              "      <td>0.0</td>\n",
              "    </tr>\n",
              "    <tr>\n",
              "      <th>2018-06-09 23:59:30</th>\n",
              "      <td>0.157524</td>\n",
              "      <td>0.698833</td>\n",
              "      <td>0.143643</td>\n",
              "      <td>0.0</td>\n",
              "    </tr>\n",
              "    <tr>\n",
              "      <th>2018-06-09 23:59:40</th>\n",
              "      <td>0.424951</td>\n",
              "      <td>0.315313</td>\n",
              "      <td>0.259736</td>\n",
              "      <td>-1.0</td>\n",
              "    </tr>\n",
              "    <tr>\n",
              "      <th>2018-06-09 23:59:50</th>\n",
              "      <td>0.353674</td>\n",
              "      <td>0.515737</td>\n",
              "      <td>0.130589</td>\n",
              "      <td>0.0</td>\n",
              "    </tr>\n",
              "    <tr>\n",
              "      <th>2018-06-10 00:00:00</th>\n",
              "      <td>0.408115</td>\n",
              "      <td>0.465368</td>\n",
              "      <td>0.126517</td>\n",
              "      <td>0.0</td>\n",
              "    </tr>\n",
              "  </tbody>\n",
              "</table>\n",
              "</div>"
            ],
            "text/plain": [
              "                         down   neutral        up  pred\n",
              "2018-06-09 23:59:20  0.148715  0.551230  0.300055   0.0\n",
              "2018-06-09 23:59:30  0.157524  0.698833  0.143643   0.0\n",
              "2018-06-09 23:59:40  0.424951  0.315313  0.259736  -1.0\n",
              "2018-06-09 23:59:50  0.353674  0.515737  0.130589   0.0\n",
              "2018-06-10 00:00:00  0.408115  0.465368  0.126517   0.0"
            ]
          },
          "metadata": {
            "tags": []
          },
          "execution_count": 6
        }
      ]
    },
    {
      "metadata": {
        "id": "UkrZI_4F6xqN",
        "colab_type": "code",
        "outputId": "2df90f94-dca7-4775-e193-bd69a117f6ee",
        "colab": {
          "base_uri": "https://localhost:8080/",
          "height": 34
        }
      },
      "cell_type": "code",
      "source": [
        "sig.symbol"
      ],
      "execution_count": 0,
      "outputs": [
        {
          "output_type": "execute_result",
          "data": {
            "text/plain": [
              "'USDJPY'"
            ]
          },
          "metadata": {
            "tags": []
          },
          "execution_count": 7
        }
      ]
    },
    {
      "metadata": {
        "id": "VlWyyxd36xqQ",
        "colab_type": "text"
      },
      "cell_type": "markdown",
      "source": [
        "# loading the marketdata"
      ]
    },
    {
      "metadata": {
        "id": "114Fi1Xr6xqR",
        "colab_type": "code",
        "colab": {}
      },
      "cell_type": "code",
      "source": [
        "from backlight import datasource\n",
        "\n",
        "mkt = datasource.load_marketdata(\n",
        "    sig.symbol,\n",
        "    sig.start_dt,\n",
        "    sig.end_dt,\n",
        "    mkt_url,\n",
        ")"
      ],
      "execution_count": 0,
      "outputs": []
    },
    {
      "metadata": {
        "id": "DB_xvXvy6xqT",
        "colab_type": "code",
        "outputId": "70d1ddf1-919c-4be3-c374-2854adb9b2a0",
        "colab": {
          "base_uri": "https://localhost:8080/",
          "height": 204
        }
      },
      "cell_type": "code",
      "source": [
        "mkt.tail()"
      ],
      "execution_count": 0,
      "outputs": [
        {
          "output_type": "execute_result",
          "data": {
            "text/html": [
              "<div>\n",
              "<style scoped>\n",
              "    .dataframe tbody tr th:only-of-type {\n",
              "        vertical-align: middle;\n",
              "    }\n",
              "\n",
              "    .dataframe tbody tr th {\n",
              "        vertical-align: top;\n",
              "    }\n",
              "\n",
              "    .dataframe thead th {\n",
              "        text-align: right;\n",
              "    }\n",
              "</style>\n",
              "<table border=\"1\" class=\"dataframe\">\n",
              "  <thead>\n",
              "    <tr style=\"text-align: right;\">\n",
              "      <th></th>\n",
              "      <th>ask</th>\n",
              "      <th>bid</th>\n",
              "    </tr>\n",
              "  </thead>\n",
              "  <tbody>\n",
              "    <tr>\n",
              "      <th>2018-06-09 23:59:20</th>\n",
              "      <td>39.916218</td>\n",
              "      <td>39.896218</td>\n",
              "    </tr>\n",
              "    <tr>\n",
              "      <th>2018-06-09 23:59:30</th>\n",
              "      <td>39.750804</td>\n",
              "      <td>39.730804</td>\n",
              "    </tr>\n",
              "    <tr>\n",
              "      <th>2018-06-09 23:59:40</th>\n",
              "      <td>39.932591</td>\n",
              "      <td>39.912591</td>\n",
              "    </tr>\n",
              "    <tr>\n",
              "      <th>2018-06-09 23:59:50</th>\n",
              "      <td>39.433785</td>\n",
              "      <td>39.413785</td>\n",
              "    </tr>\n",
              "    <tr>\n",
              "      <th>2018-06-10 00:00:00</th>\n",
              "      <td>39.471854</td>\n",
              "      <td>39.451854</td>\n",
              "    </tr>\n",
              "  </tbody>\n",
              "</table>\n",
              "</div>"
            ],
            "text/plain": [
              "                           ask        bid\n",
              "2018-06-09 23:59:20  39.916218  39.896218\n",
              "2018-06-09 23:59:30  39.750804  39.730804\n",
              "2018-06-09 23:59:40  39.932591  39.912591\n",
              "2018-06-09 23:59:50  39.433785  39.413785\n",
              "2018-06-10 00:00:00  39.471854  39.451854"
            ]
          },
          "metadata": {
            "tags": []
          },
          "execution_count": 9
        }
      ]
    },
    {
      "metadata": {
        "id": "LhcoLx4J6xqW",
        "colab_type": "text"
      },
      "cell_type": "markdown",
      "source": [
        "# generating labels"
      ]
    },
    {
      "metadata": {
        "id": "siz3mz4I6xqY",
        "colab_type": "text"
      },
      "cell_type": "markdown",
      "source": [
        "## Fixed Neutral"
      ]
    },
    {
      "metadata": {
        "id": "sYRePzR86xqZ",
        "colab_type": "code",
        "colab": {}
      },
      "cell_type": "code",
      "source": [
        "from backlight import labelizer\n",
        "from backlight.labelizer.ternary.fixed_neutral import FixedNeutralLabelizer\n",
        "\n",
        "\n",
        "lbl_fix = labelizer.generate_labels(\n",
        "    mkt,\n",
        "    FixedNeutralLabelizer(\n",
        "        lookahead=\"3Min\",\n",
        "        neutral_atol=0.075,\n",
        "        neutral_rtol=0.00,\n",
        "    ))"
      ],
      "execution_count": 0,
      "outputs": []
    },
    {
      "metadata": {
        "id": "9RSl3y8m6xqb",
        "colab_type": "code",
        "outputId": "b373060d-ab38-4b5e-a8fe-5d14bb03a346",
        "colab": {
          "base_uri": "https://localhost:8080/",
          "height": 204
        }
      },
      "cell_type": "code",
      "source": [
        "lbl_fix.head()"
      ],
      "execution_count": 0,
      "outputs": [
        {
          "output_type": "execute_result",
          "data": {
            "text/html": [
              "<div>\n",
              "<style scoped>\n",
              "    .dataframe tbody tr th:only-of-type {\n",
              "        vertical-align: middle;\n",
              "    }\n",
              "\n",
              "    .dataframe tbody tr th {\n",
              "        vertical-align: top;\n",
              "    }\n",
              "\n",
              "    .dataframe thead th {\n",
              "        text-align: right;\n",
              "    }\n",
              "</style>\n",
              "<table border=\"1\" class=\"dataframe\">\n",
              "  <thead>\n",
              "    <tr style=\"text-align: right;\">\n",
              "      <th></th>\n",
              "      <th>mid</th>\n",
              "      <th>label_diff</th>\n",
              "      <th>label</th>\n",
              "    </tr>\n",
              "  </thead>\n",
              "  <tbody>\n",
              "    <tr>\n",
              "      <th>2018-06-03 00:00:00</th>\n",
              "      <td>80.257283</td>\n",
              "      <td>-0.854094</td>\n",
              "      <td>-1.0</td>\n",
              "    </tr>\n",
              "    <tr>\n",
              "      <th>2018-06-03 00:00:10</th>\n",
              "      <td>80.010294</td>\n",
              "      <td>-0.446213</td>\n",
              "      <td>-1.0</td>\n",
              "    </tr>\n",
              "    <tr>\n",
              "      <th>2018-06-03 00:00:20</th>\n",
              "      <td>79.701448</td>\n",
              "      <td>0.156435</td>\n",
              "      <td>1.0</td>\n",
              "    </tr>\n",
              "    <tr>\n",
              "      <th>2018-06-03 00:00:30</th>\n",
              "      <td>79.822766</td>\n",
              "      <td>-0.402531</td>\n",
              "      <td>-1.0</td>\n",
              "    </tr>\n",
              "    <tr>\n",
              "      <th>2018-06-03 00:00:40</th>\n",
              "      <td>79.959499</td>\n",
              "      <td>-0.609441</td>\n",
              "      <td>-1.0</td>\n",
              "    </tr>\n",
              "  </tbody>\n",
              "</table>\n",
              "</div>"
            ],
            "text/plain": [
              "                           mid  label_diff  label\n",
              "2018-06-03 00:00:00  80.257283   -0.854094   -1.0\n",
              "2018-06-03 00:00:10  80.010294   -0.446213   -1.0\n",
              "2018-06-03 00:00:20  79.701448    0.156435    1.0\n",
              "2018-06-03 00:00:30  79.822766   -0.402531   -1.0\n",
              "2018-06-03 00:00:40  79.959499   -0.609441   -1.0"
            ]
          },
          "metadata": {
            "tags": []
          },
          "execution_count": 11
        }
      ]
    },
    {
      "metadata": {
        "id": "kjeJr_Ba6xqe",
        "colab_type": "code",
        "outputId": "d9fd7a81-ae76-4e99-a154-bb4aba7c7651",
        "colab": {
          "base_uri": "https://localhost:8080/",
          "height": 34
        }
      },
      "cell_type": "code",
      "source": [
        "lbl_fix.label_type"
      ],
      "execution_count": 0,
      "outputs": [
        {
          "output_type": "execute_result",
          "data": {
            "text/plain": [
              "'ternary'"
            ]
          },
          "metadata": {
            "tags": []
          },
          "execution_count": 12
        }
      ]
    },
    {
      "metadata": {
        "id": "I8TB5wV66xqh",
        "colab_type": "code",
        "outputId": "5ac8bc14-d538-4e13-ca96-79a82c2d15f9",
        "colab": {
          "base_uri": "https://localhost:8080/",
          "height": 102
        }
      },
      "cell_type": "code",
      "source": [
        "# (-1.0, 0.0, 1.0) : (Down, Neutral, Up)\n",
        "lbl_fix.groupby(\"label\").label.count() / len(lbl_fix)"
      ],
      "execution_count": 0,
      "outputs": [
        {
          "output_type": "execute_result",
          "data": {
            "text/plain": [
              "label\n",
              "-1.0    0.479952\n",
              " 0.0    0.047751\n",
              " 1.0    0.471999\n",
              "Name: label, dtype: float64"
            ]
          },
          "metadata": {
            "tags": []
          },
          "execution_count": 13
        }
      ]
    },
    {
      "metadata": {
        "id": "vJE99Kll6xqk",
        "colab_type": "text"
      },
      "cell_type": "markdown",
      "source": [
        "## Dynamic Neutral"
      ]
    },
    {
      "metadata": {
        "id": "4o0UHqit6xqm",
        "colab_type": "code",
        "colab": {}
      },
      "cell_type": "code",
      "source": [
        "from backlight.labelizer.ternary.dynamic_neutral import DynamicNeutralLabelizer\n",
        "\n",
        "lbl_dyn = labelizer.generate_labels(\n",
        "    mkt,\n",
        "    DynamicNeutralLabelizer(\n",
        "        lookahead=\"3Min\",\n",
        "        neutral_ratio=0.38,\n",
        "        neutral_window=\"1H\",\n",
        "        neutral_hard_limit=0.0,\n",
        "    ))"
      ],
      "execution_count": 0,
      "outputs": []
    },
    {
      "metadata": {
        "id": "JBP9flqR6xqp",
        "colab_type": "code",
        "outputId": "0ef5cf66-d0f4-418b-a6bf-6f72ea62ccb9",
        "colab": {
          "base_uri": "https://localhost:8080/",
          "height": 204
        }
      },
      "cell_type": "code",
      "source": [
        "lbl_dyn.head()"
      ],
      "execution_count": 0,
      "outputs": [
        {
          "output_type": "execute_result",
          "data": {
            "text/html": [
              "<div>\n",
              "<style scoped>\n",
              "    .dataframe tbody tr th:only-of-type {\n",
              "        vertical-align: middle;\n",
              "    }\n",
              "\n",
              "    .dataframe tbody tr th {\n",
              "        vertical-align: top;\n",
              "    }\n",
              "\n",
              "    .dataframe thead th {\n",
              "        text-align: right;\n",
              "    }\n",
              "</style>\n",
              "<table border=\"1\" class=\"dataframe\">\n",
              "  <thead>\n",
              "    <tr style=\"text-align: right;\">\n",
              "      <th></th>\n",
              "      <th>label_diff</th>\n",
              "      <th>label</th>\n",
              "      <th>neutral_range</th>\n",
              "    </tr>\n",
              "  </thead>\n",
              "  <tbody>\n",
              "    <tr>\n",
              "      <th>2018-06-03 00:00:00</th>\n",
              "      <td>-0.854094</td>\n",
              "      <td>-1.0</td>\n",
              "      <td>0.854094</td>\n",
              "    </tr>\n",
              "    <tr>\n",
              "      <th>2018-06-03 00:00:10</th>\n",
              "      <td>-0.446213</td>\n",
              "      <td>0.0</td>\n",
              "      <td>0.601208</td>\n",
              "    </tr>\n",
              "    <tr>\n",
              "      <th>2018-06-03 00:00:20</th>\n",
              "      <td>0.156435</td>\n",
              "      <td>0.0</td>\n",
              "      <td>0.376667</td>\n",
              "    </tr>\n",
              "    <tr>\n",
              "      <th>2018-06-03 00:00:30</th>\n",
              "      <td>-0.402531</td>\n",
              "      <td>0.0</td>\n",
              "      <td>0.408647</td>\n",
              "    </tr>\n",
              "    <tr>\n",
              "      <th>2018-06-03 00:00:40</th>\n",
              "      <td>-0.609441</td>\n",
              "      <td>-1.0</td>\n",
              "      <td>0.425246</td>\n",
              "    </tr>\n",
              "  </tbody>\n",
              "</table>\n",
              "</div>"
            ],
            "text/plain": [
              "                     label_diff  label  neutral_range\n",
              "2018-06-03 00:00:00   -0.854094   -1.0       0.854094\n",
              "2018-06-03 00:00:10   -0.446213    0.0       0.601208\n",
              "2018-06-03 00:00:20    0.156435    0.0       0.376667\n",
              "2018-06-03 00:00:30   -0.402531    0.0       0.408647\n",
              "2018-06-03 00:00:40   -0.609441   -1.0       0.425246"
            ]
          },
          "metadata": {
            "tags": []
          },
          "execution_count": 15
        }
      ]
    },
    {
      "metadata": {
        "id": "OeKgZ2JA6xqt",
        "colab_type": "code",
        "outputId": "276ee786-051d-411d-af6e-98a7d7495eec",
        "colab": {
          "base_uri": "https://localhost:8080/",
          "height": 34
        }
      },
      "cell_type": "code",
      "source": [
        "lbl_dyn.label_type"
      ],
      "execution_count": 0,
      "outputs": [
        {
          "output_type": "execute_result",
          "data": {
            "text/plain": [
              "'ternary'"
            ]
          },
          "metadata": {
            "tags": []
          },
          "execution_count": 16
        }
      ]
    },
    {
      "metadata": {
        "id": "qGVtfRk16xqv",
        "colab_type": "code",
        "outputId": "02a3f334-3d08-44b6-c1f9-1695ea426d47",
        "colab": {
          "base_uri": "https://localhost:8080/",
          "height": 102
        }
      },
      "cell_type": "code",
      "source": [
        "# (-1.0, 0.0, 1.0) : (Down, Neutral, Up)\n",
        "lbl_dyn.groupby(\"label\").label.count() / len(lbl_dyn)"
      ],
      "execution_count": 0,
      "outputs": [
        {
          "output_type": "execute_result",
          "data": {
            "text/plain": [
              "label\n",
              "-1.0    0.310511\n",
              " 0.0    0.382798\n",
              " 1.0    0.306394\n",
              "Name: label, dtype: float64"
            ]
          },
          "metadata": {
            "tags": []
          },
          "execution_count": 17
        }
      ]
    },
    {
      "metadata": {
        "id": "giOcORdC6xqy",
        "colab_type": "text"
      },
      "cell_type": "markdown",
      "source": [
        "# simulate trading strategy"
      ]
    },
    {
      "metadata": {
        "scrolled": true,
        "id": "aEBlNlSK6xqz",
        "colab_type": "code",
        "colab": {}
      },
      "cell_type": "code",
      "source": [
        "from backlight import strategies\n",
        "trades = strategies.simple_buy_sell(mkt, sig)"
      ],
      "execution_count": 0,
      "outputs": []
    },
    {
      "metadata": {
        "id": "6zWn4uti6xq0",
        "colab_type": "code",
        "outputId": "2b1251ea-13b0-493b-ca67-2210bb304556",
        "colab": {
          "base_uri": "https://localhost:8080/",
          "height": 204
        }
      },
      "cell_type": "code",
      "source": [
        "trades.head()"
      ],
      "execution_count": 0,
      "outputs": [
        {
          "output_type": "execute_result",
          "data": {
            "text/html": [
              "<div>\n",
              "<style scoped>\n",
              "    .dataframe tbody tr th:only-of-type {\n",
              "        vertical-align: middle;\n",
              "    }\n",
              "\n",
              "    .dataframe tbody tr th {\n",
              "        vertical-align: top;\n",
              "    }\n",
              "\n",
              "    .dataframe thead th {\n",
              "        text-align: right;\n",
              "    }\n",
              "</style>\n",
              "<table border=\"1\" class=\"dataframe\">\n",
              "  <thead>\n",
              "    <tr style=\"text-align: right;\">\n",
              "      <th></th>\n",
              "      <th>amount</th>\n",
              "      <th>ask</th>\n",
              "      <th>bid</th>\n",
              "    </tr>\n",
              "  </thead>\n",
              "  <tbody>\n",
              "    <tr>\n",
              "      <th>2018-06-03 00:00:00</th>\n",
              "      <td>0.0</td>\n",
              "      <td>80.267283</td>\n",
              "      <td>80.247283</td>\n",
              "    </tr>\n",
              "    <tr>\n",
              "      <th>2018-06-03 00:00:10</th>\n",
              "      <td>0.0</td>\n",
              "      <td>80.020294</td>\n",
              "      <td>80.000294</td>\n",
              "    </tr>\n",
              "    <tr>\n",
              "      <th>2018-06-03 00:00:20</th>\n",
              "      <td>1.0</td>\n",
              "      <td>79.711448</td>\n",
              "      <td>79.691448</td>\n",
              "    </tr>\n",
              "    <tr>\n",
              "      <th>2018-06-03 00:00:30</th>\n",
              "      <td>0.0</td>\n",
              "      <td>79.832766</td>\n",
              "      <td>79.812766</td>\n",
              "    </tr>\n",
              "    <tr>\n",
              "      <th>2018-06-03 00:00:40</th>\n",
              "      <td>1.0</td>\n",
              "      <td>79.969499</td>\n",
              "      <td>79.949499</td>\n",
              "    </tr>\n",
              "  </tbody>\n",
              "</table>\n",
              "</div>"
            ],
            "text/plain": [
              "                     amount        ask        bid\n",
              "2018-06-03 00:00:00     0.0  80.267283  80.247283\n",
              "2018-06-03 00:00:10     0.0  80.020294  80.000294\n",
              "2018-06-03 00:00:20     1.0  79.711448  79.691448\n",
              "2018-06-03 00:00:30     0.0  79.832766  79.812766\n",
              "2018-06-03 00:00:40     1.0  79.969499  79.949499"
            ]
          },
          "metadata": {
            "tags": []
          },
          "execution_count": 19
        }
      ]
    },
    {
      "metadata": {
        "id": "L7IvCI3r6xq3",
        "colab_type": "text"
      },
      "cell_type": "markdown",
      "source": [
        "# simulate and evaluate positions"
      ]
    },
    {
      "metadata": {
        "id": "XODGSv6y6xq3",
        "colab_type": "code",
        "colab": {}
      },
      "cell_type": "code",
      "source": [
        "from backlight import positions\n",
        "positions = positions.calc_positions(trades, mkt)"
      ],
      "execution_count": 0,
      "outputs": []
    },
    {
      "metadata": {
        "scrolled": true,
        "id": "eER3knrW6xq5",
        "colab_type": "code",
        "outputId": "e508596f-3044-40f9-944e-3dc031df1000",
        "colab": {
          "base_uri": "https://localhost:8080/",
          "height": 204
        }
      },
      "cell_type": "code",
      "source": [
        "positions.head()"
      ],
      "execution_count": 0,
      "outputs": [
        {
          "output_type": "execute_result",
          "data": {
            "text/html": [
              "<div>\n",
              "<style scoped>\n",
              "    .dataframe tbody tr th:only-of-type {\n",
              "        vertical-align: middle;\n",
              "    }\n",
              "\n",
              "    .dataframe tbody tr th {\n",
              "        vertical-align: top;\n",
              "    }\n",
              "\n",
              "    .dataframe thead th {\n",
              "        text-align: right;\n",
              "    }\n",
              "</style>\n",
              "<table border=\"1\" class=\"dataframe\">\n",
              "  <thead>\n",
              "    <tr style=\"text-align: right;\">\n",
              "      <th></th>\n",
              "      <th>ask</th>\n",
              "      <th>bid</th>\n",
              "      <th>amount</th>\n",
              "      <th>price</th>\n",
              "    </tr>\n",
              "  </thead>\n",
              "  <tbody>\n",
              "    <tr>\n",
              "      <th>2018-06-03 00:00:00</th>\n",
              "      <td>80.267283</td>\n",
              "      <td>80.247283</td>\n",
              "      <td>0.0</td>\n",
              "      <td>80.257283</td>\n",
              "    </tr>\n",
              "    <tr>\n",
              "      <th>2018-06-03 00:00:10</th>\n",
              "      <td>80.020294</td>\n",
              "      <td>80.000294</td>\n",
              "      <td>0.0</td>\n",
              "      <td>80.010294</td>\n",
              "    </tr>\n",
              "    <tr>\n",
              "      <th>2018-06-03 00:00:20</th>\n",
              "      <td>79.711448</td>\n",
              "      <td>79.691448</td>\n",
              "      <td>1.0</td>\n",
              "      <td>79.701448</td>\n",
              "    </tr>\n",
              "    <tr>\n",
              "      <th>2018-06-03 00:00:30</th>\n",
              "      <td>79.832766</td>\n",
              "      <td>79.812766</td>\n",
              "      <td>1.0</td>\n",
              "      <td>79.822766</td>\n",
              "    </tr>\n",
              "    <tr>\n",
              "      <th>2018-06-03 00:00:40</th>\n",
              "      <td>79.969499</td>\n",
              "      <td>79.949499</td>\n",
              "      <td>2.0</td>\n",
              "      <td>79.959499</td>\n",
              "    </tr>\n",
              "  </tbody>\n",
              "</table>\n",
              "</div>"
            ],
            "text/plain": [
              "                           ask        bid  amount      price\n",
              "2018-06-03 00:00:00  80.267283  80.247283     0.0  80.257283\n",
              "2018-06-03 00:00:10  80.020294  80.000294     0.0  80.010294\n",
              "2018-06-03 00:00:20  79.711448  79.691448     1.0  79.701448\n",
              "2018-06-03 00:00:30  79.832766  79.812766     1.0  79.822766\n",
              "2018-06-03 00:00:40  79.969499  79.949499     2.0  79.959499"
            ]
          },
          "metadata": {
            "tags": []
          },
          "execution_count": 21
        }
      ]
    },
    {
      "metadata": {
        "id": "8K8woTUF6xq8",
        "colab_type": "text"
      },
      "cell_type": "markdown",
      "source": [
        "# Calculate Metrics - based on the raw signals"
      ]
    },
    {
      "metadata": {
        "id": "wWIs7IqX6xq8",
        "colab_type": "code",
        "outputId": "d2dd7bde-5aea-4a74-8992-cf2ad4a050ec",
        "colab": {
          "base_uri": "https://localhost:8080/",
          "height": 165
        }
      },
      "cell_type": "code",
      "source": [
        "from backlight import metrics\n",
        "m = metrics.calc_metrics(sig, lbl_fix)\n",
        "m"
      ],
      "execution_count": 0,
      "outputs": [
        {
          "output_type": "stream",
          "text": [
            "/usr/local/lib/python3.6/dist-packages/backlight/metrics/ternary.py:36: SettingWithCopyWarning: \n",
            "A value is trying to be set on a copy of a slice from a DataFrame\n",
            "\n",
            "See the caveats in the documentation: http://pandas.pydata.org/pandas-docs/stable/indexing.html#indexing-view-versus-copy\n",
            "  pl.loc[sig.pred == TD.D.value] *= -1\n"
          ],
          "name": "stderr"
        },
        {
          "output_type": "execute_result",
          "data": {
            "text/html": [
              "<div>\n",
              "<style scoped>\n",
              "    .dataframe tbody tr th:only-of-type {\n",
              "        vertical-align: middle;\n",
              "    }\n",
              "\n",
              "    .dataframe tbody tr th {\n",
              "        vertical-align: top;\n",
              "    }\n",
              "\n",
              "    .dataframe thead th {\n",
              "        text-align: right;\n",
              "    }\n",
              "</style>\n",
              "<table border=\"1\" class=\"dataframe\">\n",
              "  <thead>\n",
              "    <tr style=\"text-align: right;\">\n",
              "      <th></th>\n",
              "      <th>cnt_uu</th>\n",
              "      <th>cnt_un</th>\n",
              "      <th>cnt_ud</th>\n",
              "      <th>cnt_nu</th>\n",
              "      <th>cnt_nn</th>\n",
              "      <th>cnt_nd</th>\n",
              "      <th>cnt_du</th>\n",
              "      <th>cnt_dn</th>\n",
              "      <th>cnt_dd</th>\n",
              "      <th>cnt_total</th>\n",
              "      <th>hit_ratio</th>\n",
              "      <th>hedge_ratio</th>\n",
              "      <th>neutral_ratio</th>\n",
              "      <th>coverage</th>\n",
              "      <th>avg_pl</th>\n",
              "      <th>total_pl</th>\n",
              "    </tr>\n",
              "  </thead>\n",
              "  <tbody>\n",
              "    <tr>\n",
              "      <th>metrics</th>\n",
              "      <td>9489.0</td>\n",
              "      <td>954.0</td>\n",
              "      <td>9725.0</td>\n",
              "      <td>9592.0</td>\n",
              "      <td>962.0</td>\n",
              "      <td>9627.0</td>\n",
              "      <td>9466.0</td>\n",
              "      <td>972.0</td>\n",
              "      <td>9676.0</td>\n",
              "      <td>60481.0</td>\n",
              "      <td>0.499661</td>\n",
              "      <td>0.523584</td>\n",
              "      <td>0.333675</td>\n",
              "      <td>0.666027</td>\n",
              "      <td>0.000949</td>\n",
              "      <td>38.229805</td>\n",
              "    </tr>\n",
              "  </tbody>\n",
              "</table>\n",
              "</div>"
            ],
            "text/plain": [
              "         cnt_uu  cnt_un  cnt_ud  cnt_nu  cnt_nn  cnt_nd  cnt_du  cnt_dn  \\\n",
              "metrics  9489.0   954.0  9725.0  9592.0   962.0  9627.0  9466.0   972.0   \n",
              "\n",
              "         cnt_dd  cnt_total  hit_ratio  hedge_ratio  neutral_ratio  coverage  \\\n",
              "metrics  9676.0    60481.0   0.499661     0.523584       0.333675  0.666027   \n",
              "\n",
              "           avg_pl   total_pl  \n",
              "metrics  0.000949  38.229805  "
            ]
          },
          "metadata": {
            "tags": []
          },
          "execution_count": 22
        }
      ]
    },
    {
      "metadata": {
        "id": "XkTJvI8p6xq_",
        "colab_type": "code",
        "outputId": "c26f2057-ab83-4011-e9fd-e78b03a0d34d",
        "colab": {
          "base_uri": "https://localhost:8080/",
          "height": 165
        }
      },
      "cell_type": "code",
      "source": [
        "from backlight import metrics\n",
        "m = metrics.calc_metrics(sig, lbl_dyn)\n",
        "m"
      ],
      "execution_count": 0,
      "outputs": [
        {
          "output_type": "stream",
          "text": [
            "/usr/local/lib/python3.6/dist-packages/backlight/metrics/ternary.py:36: SettingWithCopyWarning: \n",
            "A value is trying to be set on a copy of a slice from a DataFrame\n",
            "\n",
            "See the caveats in the documentation: http://pandas.pydata.org/pandas-docs/stable/indexing.html#indexing-view-versus-copy\n",
            "  pl.loc[sig.pred == TD.D.value] *= -1\n"
          ],
          "name": "stderr"
        },
        {
          "output_type": "execute_result",
          "data": {
            "text/html": [
              "<div>\n",
              "<style scoped>\n",
              "    .dataframe tbody tr th:only-of-type {\n",
              "        vertical-align: middle;\n",
              "    }\n",
              "\n",
              "    .dataframe tbody tr th {\n",
              "        vertical-align: top;\n",
              "    }\n",
              "\n",
              "    .dataframe thead th {\n",
              "        text-align: right;\n",
              "    }\n",
              "</style>\n",
              "<table border=\"1\" class=\"dataframe\">\n",
              "  <thead>\n",
              "    <tr style=\"text-align: right;\">\n",
              "      <th></th>\n",
              "      <th>cnt_uu</th>\n",
              "      <th>cnt_un</th>\n",
              "      <th>cnt_ud</th>\n",
              "      <th>cnt_nu</th>\n",
              "      <th>cnt_nn</th>\n",
              "      <th>cnt_nd</th>\n",
              "      <th>cnt_du</th>\n",
              "      <th>cnt_dn</th>\n",
              "      <th>cnt_dd</th>\n",
              "      <th>cnt_total</th>\n",
              "      <th>hit_ratio</th>\n",
              "      <th>hedge_ratio</th>\n",
              "      <th>neutral_ratio</th>\n",
              "      <th>coverage</th>\n",
              "      <th>avg_pl</th>\n",
              "      <th>total_pl</th>\n",
              "    </tr>\n",
              "  </thead>\n",
              "  <tbody>\n",
              "    <tr>\n",
              "      <th>metrics</th>\n",
              "      <td>6139.0</td>\n",
              "      <td>7824.0</td>\n",
              "      <td>6205.0</td>\n",
              "      <td>6228.0</td>\n",
              "      <td>7655.0</td>\n",
              "      <td>6298.0</td>\n",
              "      <td>6164.0</td>\n",
              "      <td>7673.0</td>\n",
              "      <td>6277.0</td>\n",
              "      <td>60481.0</td>\n",
              "      <td>0.500948</td>\n",
              "      <td>0.69294</td>\n",
              "      <td>0.333675</td>\n",
              "      <td>0.666027</td>\n",
              "      <td>0.000949</td>\n",
              "      <td>38.229805</td>\n",
              "    </tr>\n",
              "  </tbody>\n",
              "</table>\n",
              "</div>"
            ],
            "text/plain": [
              "         cnt_uu  cnt_un  cnt_ud  cnt_nu  cnt_nn  cnt_nd  cnt_du  cnt_dn  \\\n",
              "metrics  6139.0  7824.0  6205.0  6228.0  7655.0  6298.0  6164.0  7673.0   \n",
              "\n",
              "         cnt_dd  cnt_total  hit_ratio  hedge_ratio  neutral_ratio  coverage  \\\n",
              "metrics  6277.0    60481.0   0.500948      0.69294       0.333675  0.666027   \n",
              "\n",
              "           avg_pl   total_pl  \n",
              "metrics  0.000949  38.229805  "
            ]
          },
          "metadata": {
            "tags": []
          },
          "execution_count": 23
        }
      ]
    },
    {
      "metadata": {
        "id": "UzrrQeEN6xrC",
        "colab_type": "code",
        "colab": {}
      },
      "cell_type": "code",
      "source": [
        ""
      ],
      "execution_count": 0,
      "outputs": []
    }
  ]
}
