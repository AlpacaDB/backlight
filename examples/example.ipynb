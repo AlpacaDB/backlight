{
 "cells": [
  {
   "cell_type": "code",
   "execution_count": 1,
   "metadata": {},
   "outputs": [],
   "source": [
    "%matplotlib inline\n",
    "%load_ext autoreload\n",
    "%autoreload 2\n",
    "\n",
    "import os\n",
    "import numpy as np\n",
    "import pandas as pd"
   ]
  },
  {
   "cell_type": "code",
   "execution_count": 2,
   "metadata": {},
   "outputs": [],
   "source": [
    "import pome"
   ]
  },
  {
   "cell_type": "markdown",
   "metadata": {},
   "source": [
    "# Generate example dummy data"
   ]
  },
  {
   "cell_type": "code",
   "execution_count": 3,
   "metadata": {},
   "outputs": [],
   "source": [
    "np.random.seed(0)\n",
    "\n",
    "# market data\n",
    "if not os.path.exists(\"example_market.csv\"):\n",
    "    idx = pd.date_range(\"2018-04-01 00:00:00\", \"2018-06-30 23:59:59\", freq=\"1S\")\n",
    "    ask = np.cumsum(np.random.rand(len(idx)) - 0.5) + 100.0\n",
    "    bid = ask - 0.02\n",
    "    pd.DataFrame(\n",
    "        index=idx,\n",
    "        data=np.array([ask, bid]).T,\n",
    "        columns=[\"ask\", \"bid\"]\n",
    "    ).abs().to_csv(\"example_market.csv\")\n",
    "\n",
    "# signal data\n",
    "if not os.path.exists(\"example_signal.csv\"):\n",
    "    sig = np.random.rand(3, len(idx)).T\n",
    "    n = np.sum(sig, axis=1)\n",
    "    pd.DataFrame(\n",
    "        index=idx,\n",
    "        data=sig / n.reshape(-1, 1),\n",
    "        columns=[\"down\", \"neutral\", \"up\"]\n",
    "    ).to_csv(\"example_signal.csv\")"
   ]
  },
  {
   "cell_type": "markdown",
   "metadata": {},
   "source": [
    "# Configuration"
   ]
  },
  {
   "cell_type": "code",
   "execution_count": 4,
   "metadata": {},
   "outputs": [],
   "source": [
    "model_id = \"\"\n",
    "start_dt = \"2018-06-03 00:00:00+0000\"\n",
    "end_dt = \"2018-06-10 00:00:00+0000\"\n",
    "sig_url = \"file:///{}/example_signal.csv\".format(os.getcwd())\n",
    "mkt_url = \"file:///{}/example_market.csv\".format(os.getcwd())"
   ]
  },
  {
   "cell_type": "markdown",
   "metadata": {},
   "source": [
    "# loading the signal"
   ]
  },
  {
   "cell_type": "code",
   "execution_count": 5,
   "metadata": {},
   "outputs": [],
   "source": [
    "from pome import signal\n",
    "\n",
    "SYMBOL = \"USDJPY\"\n",
    "sig = signal.load_signal(SYMBOL, sig_url, start_dt, end_dt)"
   ]
  },
  {
   "cell_type": "code",
   "execution_count": 6,
   "metadata": {},
   "outputs": [
    {
     "data": {
      "text/html": [
       "<div>\n",
       "<style scoped>\n",
       "    .dataframe tbody tr th:only-of-type {\n",
       "        vertical-align: middle;\n",
       "    }\n",
       "\n",
       "    .dataframe tbody tr th {\n",
       "        vertical-align: top;\n",
       "    }\n",
       "\n",
       "    .dataframe thead th {\n",
       "        text-align: right;\n",
       "    }\n",
       "</style>\n",
       "<table border=\"1\" class=\"dataframe\">\n",
       "  <thead>\n",
       "    <tr style=\"text-align: right;\">\n",
       "      <th></th>\n",
       "      <th>down</th>\n",
       "      <th>neutral</th>\n",
       "      <th>up</th>\n",
       "      <th>argmax</th>\n",
       "      <th>pred</th>\n",
       "    </tr>\n",
       "  </thead>\n",
       "  <tbody>\n",
       "    <tr>\n",
       "      <th>2018-06-09 23:59:56</th>\n",
       "      <td>0.134798</td>\n",
       "      <td>0.506867</td>\n",
       "      <td>0.358335</td>\n",
       "      <td>1</td>\n",
       "      <td>0.0</td>\n",
       "    </tr>\n",
       "    <tr>\n",
       "      <th>2018-06-09 23:59:57</th>\n",
       "      <td>0.553165</td>\n",
       "      <td>0.219549</td>\n",
       "      <td>0.227286</td>\n",
       "      <td>2</td>\n",
       "      <td>-1.0</td>\n",
       "    </tr>\n",
       "    <tr>\n",
       "      <th>2018-06-09 23:59:58</th>\n",
       "      <td>0.482775</td>\n",
       "      <td>0.218647</td>\n",
       "      <td>0.298578</td>\n",
       "      <td>2</td>\n",
       "      <td>-1.0</td>\n",
       "    </tr>\n",
       "    <tr>\n",
       "      <th>2018-06-09 23:59:59</th>\n",
       "      <td>0.094533</td>\n",
       "      <td>0.649231</td>\n",
       "      <td>0.256236</td>\n",
       "      <td>1</td>\n",
       "      <td>0.0</td>\n",
       "    </tr>\n",
       "    <tr>\n",
       "      <th>2018-06-10 00:00:00</th>\n",
       "      <td>0.486241</td>\n",
       "      <td>0.013714</td>\n",
       "      <td>0.500045</td>\n",
       "      <td>0</td>\n",
       "      <td>1.0</td>\n",
       "    </tr>\n",
       "  </tbody>\n",
       "</table>\n",
       "</div>"
      ],
      "text/plain": [
       "                         down   neutral        up  argmax  pred\n",
       "2018-06-09 23:59:56  0.134798  0.506867  0.358335       1   0.0\n",
       "2018-06-09 23:59:57  0.553165  0.219549  0.227286       2  -1.0\n",
       "2018-06-09 23:59:58  0.482775  0.218647  0.298578       2  -1.0\n",
       "2018-06-09 23:59:59  0.094533  0.649231  0.256236       1   0.0\n",
       "2018-06-10 00:00:00  0.486241  0.013714  0.500045       0   1.0"
      ]
     },
     "execution_count": 6,
     "metadata": {},
     "output_type": "execute_result"
    }
   ],
   "source": [
    "sig.tail()"
   ]
  },
  {
   "cell_type": "code",
   "execution_count": 7,
   "metadata": {},
   "outputs": [
    {
     "data": {
      "text/plain": [
       "'USDJPY'"
      ]
     },
     "execution_count": 7,
     "metadata": {},
     "output_type": "execute_result"
    }
   ],
   "source": [
    "sig.symbol"
   ]
  },
  {
   "cell_type": "markdown",
   "metadata": {},
   "source": [
    "# loading the marketdata"
   ]
  },
  {
   "cell_type": "code",
   "execution_count": 8,
   "metadata": {},
   "outputs": [],
   "source": [
    "from pome import datasource\n",
    "\n",
    "mkt = datasource.load_marketdata(\n",
    "    sig.symbol,\n",
    "    sig.start_dt,\n",
    "    sig.end_dt,\n",
    "    mkt_url,\n",
    ")"
   ]
  },
  {
   "cell_type": "code",
   "execution_count": 9,
   "metadata": {},
   "outputs": [
    {
     "data": {
      "text/html": [
       "<div>\n",
       "<style scoped>\n",
       "    .dataframe tbody tr th:only-of-type {\n",
       "        vertical-align: middle;\n",
       "    }\n",
       "\n",
       "    .dataframe tbody tr th {\n",
       "        vertical-align: top;\n",
       "    }\n",
       "\n",
       "    .dataframe thead th {\n",
       "        text-align: right;\n",
       "    }\n",
       "</style>\n",
       "<table border=\"1\" class=\"dataframe\">\n",
       "  <thead>\n",
       "    <tr style=\"text-align: right;\">\n",
       "      <th></th>\n",
       "      <th>ask</th>\n",
       "      <th>bid</th>\n",
       "    </tr>\n",
       "  </thead>\n",
       "  <tbody>\n",
       "    <tr>\n",
       "      <th>2018-06-09 23:59:56</th>\n",
       "      <td>66.810823</td>\n",
       "      <td>66.790823</td>\n",
       "    </tr>\n",
       "    <tr>\n",
       "      <th>2018-06-09 23:59:57</th>\n",
       "      <td>67.245930</td>\n",
       "      <td>67.225930</td>\n",
       "    </tr>\n",
       "    <tr>\n",
       "      <th>2018-06-09 23:59:58</th>\n",
       "      <td>67.228236</td>\n",
       "      <td>67.208236</td>\n",
       "    </tr>\n",
       "    <tr>\n",
       "      <th>2018-06-09 23:59:59</th>\n",
       "      <td>67.080989</td>\n",
       "      <td>67.060989</td>\n",
       "    </tr>\n",
       "    <tr>\n",
       "      <th>2018-06-10 00:00:00</th>\n",
       "      <td>66.930760</td>\n",
       "      <td>66.910760</td>\n",
       "    </tr>\n",
       "  </tbody>\n",
       "</table>\n",
       "</div>"
      ],
      "text/plain": [
       "                           ask        bid\n",
       "2018-06-09 23:59:56  66.810823  66.790823\n",
       "2018-06-09 23:59:57  67.245930  67.225930\n",
       "2018-06-09 23:59:58  67.228236  67.208236\n",
       "2018-06-09 23:59:59  67.080989  67.060989\n",
       "2018-06-10 00:00:00  66.930760  66.910760"
      ]
     },
     "execution_count": 9,
     "metadata": {},
     "output_type": "execute_result"
    }
   ],
   "source": [
    "mkt.tail()"
   ]
  },
  {
   "cell_type": "markdown",
   "metadata": {},
   "source": [
    "# generating labels"
   ]
  },
  {
   "cell_type": "code",
   "execution_count": 10,
   "metadata": {},
   "outputs": [],
   "source": [
    "from pome import labelizer\n",
    "\n",
    "\n",
    "lbl = labelizer.generate_labels(\n",
    "    mkt,\n",
    "    labelizer.FixedNeutralLabelizer(\n",
    "        lookahead=\"3Min\",\n",
    "        neutral_atol=0.075,\n",
    "        neutral_rtol=0.00,\n",
    "    ))"
   ]
  },
  {
   "cell_type": "code",
   "execution_count": 11,
   "metadata": {},
   "outputs": [
    {
     "data": {
      "text/html": [
       "<div>\n",
       "<style scoped>\n",
       "    .dataframe tbody tr th:only-of-type {\n",
       "        vertical-align: middle;\n",
       "    }\n",
       "\n",
       "    .dataframe tbody tr th {\n",
       "        vertical-align: top;\n",
       "    }\n",
       "\n",
       "    .dataframe thead th {\n",
       "        text-align: right;\n",
       "    }\n",
       "</style>\n",
       "<table border=\"1\" class=\"dataframe\">\n",
       "  <thead>\n",
       "    <tr style=\"text-align: right;\">\n",
       "      <th></th>\n",
       "      <th>label_diff</th>\n",
       "      <th>label</th>\n",
       "    </tr>\n",
       "  </thead>\n",
       "  <tbody>\n",
       "    <tr>\n",
       "      <th>2018-06-03 00:00:00</th>\n",
       "      <td>0.786592</td>\n",
       "      <td>1.0</td>\n",
       "    </tr>\n",
       "    <tr>\n",
       "      <th>2018-06-03 00:00:01</th>\n",
       "      <td>0.846372</td>\n",
       "      <td>1.0</td>\n",
       "    </tr>\n",
       "    <tr>\n",
       "      <th>2018-06-03 00:00:02</th>\n",
       "      <td>0.076975</td>\n",
       "      <td>1.0</td>\n",
       "    </tr>\n",
       "    <tr>\n",
       "      <th>2018-06-03 00:00:03</th>\n",
       "      <td>-0.245281</td>\n",
       "      <td>-1.0</td>\n",
       "    </tr>\n",
       "    <tr>\n",
       "      <th>2018-06-03 00:00:04</th>\n",
       "      <td>-0.237024</td>\n",
       "      <td>-1.0</td>\n",
       "    </tr>\n",
       "  </tbody>\n",
       "</table>\n",
       "</div>"
      ],
      "text/plain": [
       "                     label_diff  label\n",
       "2018-06-03 00:00:00    0.786592    1.0\n",
       "2018-06-03 00:00:01    0.846372    1.0\n",
       "2018-06-03 00:00:02    0.076975    1.0\n",
       "2018-06-03 00:00:03   -0.245281   -1.0\n",
       "2018-06-03 00:00:04   -0.237024   -1.0"
      ]
     },
     "execution_count": 11,
     "metadata": {},
     "output_type": "execute_result"
    }
   ],
   "source": [
    "lbl.head()"
   ]
  },
  {
   "cell_type": "code",
   "execution_count": 12,
   "metadata": {},
   "outputs": [
    {
     "data": {
      "text/plain": [
       "'ternary'"
      ]
     },
     "execution_count": 12,
     "metadata": {},
     "output_type": "execute_result"
    }
   ],
   "source": [
    "lbl.label_type"
   ]
  },
  {
   "cell_type": "markdown",
   "metadata": {},
   "source": [
    "# simulate trading strategy"
   ]
  },
  {
   "cell_type": "code",
   "execution_count": 13,
   "metadata": {
    "scrolled": true
   },
   "outputs": [],
   "source": [
    "from pome import strategies\n",
    "trades = strategies.simple_buy_sell(mkt, sig, target_column_name=\"???\")"
   ]
  },
  {
   "cell_type": "code",
   "execution_count": 14,
   "metadata": {},
   "outputs": [
    {
     "data": {
      "text/html": [
       "<div>\n",
       "<style scoped>\n",
       "    .dataframe tbody tr th:only-of-type {\n",
       "        vertical-align: middle;\n",
       "    }\n",
       "\n",
       "    .dataframe tbody tr th {\n",
       "        vertical-align: top;\n",
       "    }\n",
       "\n",
       "    .dataframe thead th {\n",
       "        text-align: right;\n",
       "    }\n",
       "</style>\n",
       "<table border=\"1\" class=\"dataframe\">\n",
       "  <thead>\n",
       "    <tr style=\"text-align: right;\">\n",
       "      <th></th>\n",
       "      <th>amount</th>\n",
       "      <th>ask</th>\n",
       "      <th>bid</th>\n",
       "    </tr>\n",
       "  </thead>\n",
       "  <tbody>\n",
       "    <tr>\n",
       "      <th>2018-06-03 00:00:00</th>\n",
       "      <td>-1.0</td>\n",
       "      <td>143.016552</td>\n",
       "      <td>142.996552</td>\n",
       "    </tr>\n",
       "    <tr>\n",
       "      <th>2018-06-03 00:00:01</th>\n",
       "      <td>1.0</td>\n",
       "      <td>143.319539</td>\n",
       "      <td>143.299539</td>\n",
       "    </tr>\n",
       "    <tr>\n",
       "      <th>2018-06-03 00:00:02</th>\n",
       "      <td>-1.0</td>\n",
       "      <td>143.755250</td>\n",
       "      <td>143.735250</td>\n",
       "    </tr>\n",
       "    <tr>\n",
       "      <th>2018-06-03 00:00:03</th>\n",
       "      <td>0.0</td>\n",
       "      <td>143.703420</td>\n",
       "      <td>143.683420</td>\n",
       "    </tr>\n",
       "    <tr>\n",
       "      <th>2018-06-03 00:00:04</th>\n",
       "      <td>0.0</td>\n",
       "      <td>143.811219</td>\n",
       "      <td>143.791219</td>\n",
       "    </tr>\n",
       "  </tbody>\n",
       "</table>\n",
       "</div>"
      ],
      "text/plain": [
       "                     amount         ask         bid\n",
       "2018-06-03 00:00:00    -1.0  143.016552  142.996552\n",
       "2018-06-03 00:00:01     1.0  143.319539  143.299539\n",
       "2018-06-03 00:00:02    -1.0  143.755250  143.735250\n",
       "2018-06-03 00:00:03     0.0  143.703420  143.683420\n",
       "2018-06-03 00:00:04     0.0  143.811219  143.791219"
      ]
     },
     "execution_count": 14,
     "metadata": {},
     "output_type": "execute_result"
    }
   ],
   "source": [
    "trades.head()"
   ]
  },
  {
   "cell_type": "markdown",
   "metadata": {},
   "source": [
    "# calculate metrics"
   ]
  },
  {
   "cell_type": "code",
   "execution_count": 15,
   "metadata": {},
   "outputs": [],
   "source": [
    "# from pome import metrics\n",
    "# Not Implemented\n",
    "# m_model = metrics.calc_metrics(sig, lbl)"
   ]
  },
  {
   "cell_type": "markdown",
   "metadata": {},
   "source": [
    "# simulate and evaluate positions"
   ]
  },
  {
   "cell_type": "code",
   "execution_count": 16,
   "metadata": {},
   "outputs": [],
   "source": [
    "from pome import positions\n",
    "positions = positions.calc_positions(trades, mkt)"
   ]
  },
  {
   "cell_type": "code",
   "execution_count": 17,
   "metadata": {
    "scrolled": false
   },
   "outputs": [
    {
     "data": {
      "text/html": [
       "<div>\n",
       "<style scoped>\n",
       "    .dataframe tbody tr th:only-of-type {\n",
       "        vertical-align: middle;\n",
       "    }\n",
       "\n",
       "    .dataframe tbody tr th {\n",
       "        vertical-align: top;\n",
       "    }\n",
       "\n",
       "    .dataframe thead th {\n",
       "        text-align: right;\n",
       "    }\n",
       "</style>\n",
       "<table border=\"1\" class=\"dataframe\">\n",
       "  <thead>\n",
       "    <tr style=\"text-align: right;\">\n",
       "      <th></th>\n",
       "      <th>ask</th>\n",
       "      <th>bid</th>\n",
       "      <th>amount</th>\n",
       "      <th>price</th>\n",
       "    </tr>\n",
       "  </thead>\n",
       "  <tbody>\n",
       "    <tr>\n",
       "      <th>2018-06-03 00:00:00</th>\n",
       "      <td>143.016552</td>\n",
       "      <td>142.996552</td>\n",
       "      <td>-1.0</td>\n",
       "      <td>143.006552</td>\n",
       "    </tr>\n",
       "    <tr>\n",
       "      <th>2018-06-03 00:00:01</th>\n",
       "      <td>143.319539</td>\n",
       "      <td>143.299539</td>\n",
       "      <td>0.0</td>\n",
       "      <td>143.309539</td>\n",
       "    </tr>\n",
       "    <tr>\n",
       "      <th>2018-06-03 00:00:02</th>\n",
       "      <td>143.755250</td>\n",
       "      <td>143.735250</td>\n",
       "      <td>-1.0</td>\n",
       "      <td>143.745250</td>\n",
       "    </tr>\n",
       "    <tr>\n",
       "      <th>2018-06-03 00:00:03</th>\n",
       "      <td>143.703420</td>\n",
       "      <td>143.683420</td>\n",
       "      <td>-1.0</td>\n",
       "      <td>143.693420</td>\n",
       "    </tr>\n",
       "    <tr>\n",
       "      <th>2018-06-03 00:00:04</th>\n",
       "      <td>143.811219</td>\n",
       "      <td>143.791219</td>\n",
       "      <td>-1.0</td>\n",
       "      <td>143.801219</td>\n",
       "    </tr>\n",
       "  </tbody>\n",
       "</table>\n",
       "</div>"
      ],
      "text/plain": [
       "                            ask         bid  amount       price\n",
       "2018-06-03 00:00:00  143.016552  142.996552    -1.0  143.006552\n",
       "2018-06-03 00:00:01  143.319539  143.299539     0.0  143.309539\n",
       "2018-06-03 00:00:02  143.755250  143.735250    -1.0  143.745250\n",
       "2018-06-03 00:00:03  143.703420  143.683420    -1.0  143.693420\n",
       "2018-06-03 00:00:04  143.811219  143.791219    -1.0  143.801219"
      ]
     },
     "execution_count": 17,
     "metadata": {},
     "output_type": "execute_result"
    }
   ],
   "source": [
    "positions.head()"
   ]
  },
  {
   "cell_type": "code",
   "execution_count": 18,
   "metadata": {},
   "outputs": [],
   "source": [
    "from pome import metrics\n",
    "pl = metrics.evaluate_position(positions)"
   ]
  },
  {
   "cell_type": "code",
   "execution_count": 19,
   "metadata": {},
   "outputs": [
    {
     "name": "stdout",
     "output_type": "stream",
     "text": [
      "total_pl: 179671.21633114992\n",
      "averagel_pl: 0.4455114813364756\n",
      "total_win: 33121167.403502513\n",
      "total_loss: -32941496.18717137\n"
     ]
    }
   ],
   "source": [
    "print(\"total_pl: {}\".format(pl.total_pl))\n",
    "print(\"averagel_pl: {}\".format(pl.average_pl))\n",
    "print(\"total_win: {}\".format(pl.total_win))\n",
    "print(\"total_loss: {}\".format(pl.total_loss))"
   ]
  },
  {
   "cell_type": "markdown",
   "metadata": {},
   "source": [
    "# simulate and evaluate portfolio\n",
    "- Portfolio should be needed if we want to evaluate the performance of multi assets.\n",
    "- e.g. When we evaluate USDJPY with ask/bid prices, we should have the positions of USDJPY and bank account(JPY)."
   ]
  },
  {
   "cell_type": "code",
   "execution_count": 20,
   "metadata": {},
   "outputs": [],
   "source": [
    "# from pome import portfolio\n",
    "# portfolio = portfolio.calc_positions(trades, mkt)"
   ]
  },
  {
   "cell_type": "code",
   "execution_count": 21,
   "metadata": {},
   "outputs": [],
   "source": [
    "# portfolio{0} should be positions of USDJPY\n",
    "# portfolio{1} should be positions of bank account(JPY)."
   ]
  },
  {
   "cell_type": "code",
   "execution_count": 22,
   "metadata": {},
   "outputs": [],
   "source": [
    "# pl = metrics.evaluate_portfolio(portfolio)"
   ]
  },
  {
   "cell_type": "markdown",
   "metadata": {},
   "source": [
    "# plot charts"
   ]
  },
  {
   "cell_type": "code",
   "execution_count": 23,
   "metadata": {},
   "outputs": [
    {
     "ename": "ImportError",
     "evalue": "cannot import name 'plots'",
     "output_type": "error",
     "traceback": [
      "\u001b[0;31m---------------------------------------------------------------------------\u001b[0m",
      "\u001b[0;31mImportError\u001b[0m                               Traceback (most recent call last)",
      "\u001b[0;32m<ipython-input-23-edcb6cadabaa>\u001b[0m in \u001b[0;36m<module>\u001b[0;34m()\u001b[0m\n\u001b[0;32m----> 1\u001b[0;31m \u001b[0;32mfrom\u001b[0m \u001b[0mpome\u001b[0m \u001b[0;32mimport\u001b[0m \u001b[0mplots\u001b[0m\u001b[0;34m\u001b[0m\u001b[0m\n\u001b[0m\u001b[1;32m      2\u001b[0m \u001b[0mplots\u001b[0m\u001b[0;34m.\u001b[0m\u001b[0mhistorical_signals\u001b[0m\u001b[0;34m(\u001b[0m\u001b[0mmkt\u001b[0m\u001b[0;34m,\u001b[0m \u001b[0msig\u001b[0m\u001b[0;34m,\u001b[0m \u001b[0mlbl\u001b[0m\u001b[0;34m)\u001b[0m\u001b[0;34m\u001b[0m\u001b[0m\n",
      "\u001b[0;31mImportError\u001b[0m: cannot import name 'plots'"
     ]
    }
   ],
   "source": [
    "from pome import plots\n",
    "plots.historical_signals(mkt, sig, lbl)"
   ]
  },
  {
   "cell_type": "code",
   "execution_count": null,
   "metadata": {},
   "outputs": [],
   "source": [
    "plots.historical_signals_with_trades(mkt, sig, lbl, trades)"
   ]
  },
  {
   "cell_type": "code",
   "execution_count": null,
   "metadata": {},
   "outputs": [],
   "source": []
  }
 ],
 "metadata": {
  "kernelspec": {
   "display_name": "Python 3",
   "language": "python",
   "name": "python3"
  },
  "language_info": {
   "codemirror_mode": {
    "name": "ipython",
    "version": 3
   },
   "file_extension": ".py",
   "mimetype": "text/x-python",
   "name": "python",
   "nbconvert_exporter": "python",
   "pygments_lexer": "ipython3",
   "version": "3.5.2"
  }
 },
 "nbformat": 4,
 "nbformat_minor": 2
}
